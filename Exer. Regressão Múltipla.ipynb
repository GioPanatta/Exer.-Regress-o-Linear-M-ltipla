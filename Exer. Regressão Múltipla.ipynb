{
 "cells": [
  {
   "cell_type": "markdown",
   "metadata": {},
   "source": [
    "# Regressão - transformações em X e Y"
   ]
  },
  {
   "cell_type": "markdown",
   "metadata": {},
   "source": [
    "Carregue os pacotes necessários e a base de gorjetas.\n",
    "\n",
    "### I. Modelo no valor da gorjeta\n",
    "\n",
    "1. Crie a matriz de design (e a matriz y) utilizando o Patsy, para um modelo em ```tip```, explicada por ```sex, smoker, diner e net_bill```.  \n",
    "2. Remova as variáveis não significantes.  \n",
    "3. observe o gráfico de resíduos em função de ```net_bill```  \n",
    "4. teste transformar ```net_bill``` no log e um polinômio. Escolha o melhor modelo."
   ]
  },
  {
   "cell_type": "code",
   "execution_count": 160,
   "metadata": {},
   "outputs": [],
   "source": [
    "import pandas as pd\n",
    "import seaborn as sns\n",
    "from seaborn import load_dataset\n",
    "import matplotlib.pyplot as plt\n",
    "import seaborn as sns\n",
    "import numpy as np\n",
    "\n",
    "import patsy\n",
    "import statsmodels.api as sm\n",
    "import statsmodels.formula.api as smf\n",
    "from sklearn.metrics import r2_score\n",
    "\n",
    "%matplotlib inline"
   ]
  },
  {
   "cell_type": "code",
   "execution_count": 133,
   "metadata": {},
   "outputs": [
    {
     "data": {
      "text/html": [
       "<div>\n",
       "<style scoped>\n",
       "    .dataframe tbody tr th:only-of-type {\n",
       "        vertical-align: middle;\n",
       "    }\n",
       "\n",
       "    .dataframe tbody tr th {\n",
       "        vertical-align: top;\n",
       "    }\n",
       "\n",
       "    .dataframe thead th {\n",
       "        text-align: right;\n",
       "    }\n",
       "</style>\n",
       "<table border=\"1\" class=\"dataframe\">\n",
       "  <thead>\n",
       "    <tr style=\"text-align: right;\">\n",
       "      <th></th>\n",
       "      <th>total_bill</th>\n",
       "      <th>tip</th>\n",
       "      <th>sex</th>\n",
       "      <th>smoker</th>\n",
       "      <th>day</th>\n",
       "      <th>time</th>\n",
       "      <th>size</th>\n",
       "      <th>tip_pct</th>\n",
       "      <th>net_bill</th>\n",
       "    </tr>\n",
       "  </thead>\n",
       "  <tbody>\n",
       "    <tr>\n",
       "      <th>0</th>\n",
       "      <td>16.99</td>\n",
       "      <td>1.01</td>\n",
       "      <td>Female</td>\n",
       "      <td>No</td>\n",
       "      <td>Sun</td>\n",
       "      <td>Dinner</td>\n",
       "      <td>2</td>\n",
       "      <td>0.063204</td>\n",
       "      <td>15.98</td>\n",
       "    </tr>\n",
       "    <tr>\n",
       "      <th>1</th>\n",
       "      <td>10.34</td>\n",
       "      <td>1.66</td>\n",
       "      <td>Male</td>\n",
       "      <td>No</td>\n",
       "      <td>Sun</td>\n",
       "      <td>Dinner</td>\n",
       "      <td>3</td>\n",
       "      <td>0.191244</td>\n",
       "      <td>8.68</td>\n",
       "    </tr>\n",
       "    <tr>\n",
       "      <th>2</th>\n",
       "      <td>21.01</td>\n",
       "      <td>3.50</td>\n",
       "      <td>Male</td>\n",
       "      <td>No</td>\n",
       "      <td>Sun</td>\n",
       "      <td>Dinner</td>\n",
       "      <td>3</td>\n",
       "      <td>0.199886</td>\n",
       "      <td>17.51</td>\n",
       "    </tr>\n",
       "    <tr>\n",
       "      <th>3</th>\n",
       "      <td>23.68</td>\n",
       "      <td>3.31</td>\n",
       "      <td>Male</td>\n",
       "      <td>No</td>\n",
       "      <td>Sun</td>\n",
       "      <td>Dinner</td>\n",
       "      <td>2</td>\n",
       "      <td>0.162494</td>\n",
       "      <td>20.37</td>\n",
       "    </tr>\n",
       "    <tr>\n",
       "      <th>4</th>\n",
       "      <td>24.59</td>\n",
       "      <td>3.61</td>\n",
       "      <td>Female</td>\n",
       "      <td>No</td>\n",
       "      <td>Sun</td>\n",
       "      <td>Dinner</td>\n",
       "      <td>4</td>\n",
       "      <td>0.172069</td>\n",
       "      <td>20.98</td>\n",
       "    </tr>\n",
       "  </tbody>\n",
       "</table>\n",
       "</div>"
      ],
      "text/plain": [
       "   total_bill   tip     sex smoker  day    time  size   tip_pct  net_bill\n",
       "0       16.99  1.01  Female     No  Sun  Dinner     2  0.063204     15.98\n",
       "1       10.34  1.66    Male     No  Sun  Dinner     3  0.191244      8.68\n",
       "2       21.01  3.50    Male     No  Sun  Dinner     3  0.199886     17.51\n",
       "3       23.68  3.31    Male     No  Sun  Dinner     2  0.162494     20.37\n",
       "4       24.59  3.61  Female     No  Sun  Dinner     4  0.172069     20.98"
      ]
     },
     "execution_count": 133,
     "metadata": {},
     "output_type": "execute_result"
    }
   ],
   "source": [
    "tips = sns.load_dataset(\"tips\")\n",
    "tips['tip_pct'] = tips['tip'] / (tips['total_bill'] - tips['tip'])\n",
    "tips['net_bill'] = tips['total_bill'] - tips['tip']\n",
    "tips.head()"
   ]
  },
  {
   "cell_type": "markdown",
   "metadata": {},
   "source": [
    "### II. Modelo no valor do percentual da gorjeta\n",
    "\n",
    "1. Crie a matriz de design (e a matriz y) utilizando o Patsy, para um modelo no log de ```tip```, explicado por ```sex, smoker, diner e net_bill```.\n",
    "2. Remova as variáveis não significantes.\n",
    "3. Observe o gráfico de resíduos em função de ```net_bill```\n",
    "4. Teste transformar ```net_bill``` no log e um polinômio. Escolha o melhor modelo.\n",
    "5. Do modelo final deste item, calcule o $R^2$ na escala de ```tip``` (sem o log). Compare com o modelo do item 1. Qual tem melhor coeficiente de determinação?"
   ]
  },
  {
   "cell_type": "markdown",
   "metadata": {},
   "source": [
    "# 1 Crie a matriz de design (e a matriz y) utilizando o Patsy, para um modelo no log de tip, explicado por sex, smoker, diner e net_bill."
   ]
  },
  {
   "cell_type": "code",
   "execution_count": 134,
   "metadata": {},
   "outputs": [],
   "source": [
    "# 1 - criando formula para o modelo sendo o log de tip explicado por outras variáveis\n",
    "#Obs: a coluna correta parece ser time e não diner.\n",
    "\n",
    "formula = 'np.log(tip) ~ sex + smoker + time + net_bill' \n",
    "\n",
    "# Usando Patsy para criar a matriz de design e resposta\n",
    "y, X = patsy.dmatrices(formula, data=tips)"
   ]
  },
  {
   "cell_type": "code",
   "execution_count": 135,
   "metadata": {},
   "outputs": [
    {
     "name": "stdout",
     "output_type": "stream",
     "text": [
      "                            OLS Regression Results                            \n",
      "==============================================================================\n",
      "Dep. Variable:            np.log(tip)   R-squared:                       0.313\n",
      "Model:                            OLS   Adj. R-squared:                  0.302\n",
      "Method:                 Least Squares   F-statistic:                     27.25\n",
      "Date:                Sun, 07 Jan 2024   Prob (F-statistic):           1.21e-18\n",
      "Time:                        16:12:54   Log-Likelihood:                -97.419\n",
      "No. Observations:                 244   AIC:                             204.8\n",
      "Df Residuals:                     239   BIC:                             222.3\n",
      "Df Model:                           4                                         \n",
      "Covariance Type:            nonrobust                                         \n",
      "==================================================================================\n",
      "                     coef    std err          t      P>|t|      [0.025      0.975]\n",
      "----------------------------------------------------------------------------------\n",
      "Intercept          0.4504      0.078      5.801      0.000       0.297       0.603\n",
      "sex[T.Female]      0.0048      0.050      0.097      0.923      -0.094       0.104\n",
      "smoker[T.No]       0.0436      0.048      0.903      0.367      -0.052       0.139\n",
      "time[T.Dinner]     0.0191      0.054      0.355      0.723      -0.087       0.125\n",
      "net_bill           0.0304      0.003     10.152      0.000       0.024       0.036\n",
      "==============================================================================\n",
      "Omnibus:                        2.577   Durbin-Watson:                   2.044\n",
      "Prob(Omnibus):                  0.276   Jarque-Bera (JB):                2.235\n",
      "Skew:                          -0.181   Prob(JB):                        0.327\n",
      "Kurtosis:                       3.298   Cond. No.                         71.2\n",
      "==============================================================================\n",
      "\n",
      "Notes:\n",
      "[1] Standard Errors assume that the covariance matrix of the errors is correctly specified.\n"
     ]
    }
   ],
   "source": [
    "# Utilizando o statsmodels.api as sm importado anteriormente\n",
    "# Treinando o modelo de Regressão Linear com a instância OLS do statsmodels\n",
    "modelo = sm.OLS(y, X).fit()\n",
    "\n",
    "print(modelo.summary())"
   ]
  },
  {
   "cell_type": "markdown",
   "metadata": {},
   "source": [
    "Com o modelo de Regressão acima e incluindo todas as variáveis obtivemos um R-quadrado de 0.313, o que significa que 31.3% do log das gorjetas (ou as gorjetas em si) que podem ser explicadas pelas demais variáveis.\n"
   ]
  },
  {
   "cell_type": "markdown",
   "metadata": {},
   "source": [
    "Observações quando aos p-valores do nosso modelo:\n",
    "\n",
    "Intercept: p-valor < 0.05, o que indica que é estatisticamente significativo (que corresponde a uma confiança de 95% ou mais).\n",
    "\n",
    "*sex: p-valor = 0.923, o que indica que não é estatisticamente significativo (com base em um nível de significância de 0.05).\n",
    "\n",
    "*smoker: p-valor = 0.367, também indica que não é estatisticamente significativo.\n",
    "\n",
    "*time p-valor = 0.723, que também não é estatisticamente significativo.\n",
    "\n",
    "net_bill: p-valor < 0.05, que indica que é estatisticamente significativo."
   ]
  },
  {
   "cell_type": "markdown",
   "metadata": {},
   "source": [
    "Com base nas observações acima, concluímos que apenas a coluna 'net_bill' é estatisticamente significativa."
   ]
  },
  {
   "cell_type": "markdown",
   "metadata": {},
   "source": [
    "# 2 Remova as variáveis não significantes"
   ]
  },
  {
   "cell_type": "markdown",
   "metadata": {},
   "source": [
    "Para este exercício, basta criarmos um outro modelo contendo apenas a variável estatisticamente significante. Desta forma, nosso modelo se torna uma Regressão Linear Simples (apenas uma variável independente), em contraste com o modelo anterior."
   ]
  },
  {
   "cell_type": "code",
   "execution_count": 136,
   "metadata": {},
   "outputs": [
    {
     "name": "stdout",
     "output_type": "stream",
     "text": [
      "                            OLS Regression Results                            \n",
      "==============================================================================\n",
      "Dep. Variable:            np.log(tip)   R-squared:                       0.311\n",
      "Model:                            OLS   Adj. R-squared:                  0.308\n",
      "Method:                 Least Squares   F-statistic:                     109.0\n",
      "Date:                Sun, 07 Jan 2024   Prob (F-statistic):           2.60e-21\n",
      "Time:                        16:12:55   Log-Likelihood:                -97.886\n",
      "No. Observations:                 244   AIC:                             199.8\n",
      "Df Residuals:                     242   BIC:                             206.8\n",
      "Df Model:                           1                                         \n",
      "Covariance Type:            nonrobust                                         \n",
      "==============================================================================\n",
      "                 coef    std err          t      P>|t|      [0.025      0.975]\n",
      "------------------------------------------------------------------------------\n",
      "Intercept      0.4945      0.054      9.172      0.000       0.388       0.601\n",
      "net_bill       0.0303      0.003     10.442      0.000       0.025       0.036\n",
      "==============================================================================\n",
      "Omnibus:                        2.865   Durbin-Watson:                   2.043\n",
      "Prob(Omnibus):                  0.239   Jarque-Bera (JB):                2.502\n",
      "Skew:                          -0.215   Prob(JB):                        0.286\n",
      "Kurtosis:                       3.248   Cond. No.                         43.3\n",
      "==============================================================================\n",
      "\n",
      "Notes:\n",
      "[1] Standard Errors assume that the covariance matrix of the errors is correctly specified.\n"
     ]
    }
   ],
   "source": [
    "#np.log(tip) explicado por net_bill\n",
    "nova_formula = 'np.log(tip) ~ net_bill'\n",
    "\n",
    "#Criando a matriz de design e resposta\n",
    "y, X = patsy.dmatrices(nova_formula, data=tips)\n",
    "\n",
    "#Treinando o modelo\n",
    "novo_modelo = sm.OLS(y, X).fit()\n",
    "\n",
    "print(novo_modelo.summary())"
   ]
  },
  {
   "cell_type": "markdown",
   "metadata": {},
   "source": [
    "Com o nosso novo modelo (apenas uma variável independente) obtivemos um R-quadrado um pouco inferior ao anterior: 0.311 ou 31.1% "
   ]
  },
  {
   "cell_type": "markdown",
   "metadata": {},
   "source": [
    "# 3 - observe o gráfico de resíduos em função de net_bill"
   ]
  },
  {
   "cell_type": "code",
   "execution_count": 137,
   "metadata": {
    "scrolled": true
   },
   "outputs": [
    {
     "data": {
      "image/png": "[encoded data removed]",
      "text/plain": [
       "<Figure size 1000x600 with 1 Axes>"
      ]
     },
     "metadata": {},
     "output_type": "display_data"
    }
   ],
   "source": [
    "residuos = novo_modelo.resid\n",
    "\n",
    "plt.figure(figsize =(10, 6))\n",
    "sns.scatterplot(x=tips['net_bill'], y=residuos)\n",
    "plt.axhline(y=0, color='red', linestyle='--') # Desenha uma linha horizontal em y=0\n",
    "plt.xlabel('Net Bill')\n",
    "plt.ylabel('Resíduos')\n",
    "plt.title('Gráfico de Resíduos vc net_bill')\n",
    "\n",
    "plt.show()"
   ]
  },
  {
   "cell_type": "markdown",
   "metadata": {},
   "source": [
    "Interpretação do Gráfico de Resíduos:\n",
    "\n",
    "Eixo X - Net Bill:\n",
    "Este é o eixo horizontal, e ele mostra os valores da conta líquida (net_bill) dos clientes. Quanto cada cada cliente pagou pela refeição, sem contar a gorjeta.\n",
    "\n",
    "Eixo y:\n",
    "os redísuos estão plotados em relação ao eixo y, isso mostra o quanto o modelo errou nas previsões. Quando um ponto está acima da linha vermelha horizontal, significa que o modelo previu menos do que a gorjeta real (subestimação). Quando um ponto está abaixo da linha, o modelo previu mais do que a gorjeta real (superestimação).\n",
    "\n",
    "Linha Vermelha Horizontal:\n",
    "Esta linha representa um resíduo de zero. Idealmente, queremos que os pontos (resíduos) estejam espalhados aleatoriamente em torno desta linha, sem formar nenhum padrão claro.\n",
    "\n",
    "Distribuição dos Resíduos:\n",
    "*Sem Padrão: Se os resíduos parecem estar dispersos aleatoriamente em torno da linha horizontal, isso sugere que o modelo é apropriado.\n",
    "*Com Padrão: Se observarmos padrões, como forma de funil (indicando heteroscedasticidade) ou uma curva (indicando não-linearidade), o modelo pode precisar ser melhorado.\n",
    "\n",
    "Conclusão:\n",
    "Há uma ligeira abertura em forma de funil onde os resíduos se tornam mais dispersos à medida que o valor de net_bill aumenta, o que pode sugerir heteroscedasticidade. Isso significa que o modelo pode ser mais preciso para valores menores de net_bill e menos preciso para valores maiores.\n",
    "\n",
    "Sugestão para melhora do modelo:\n",
    "Embora possamos utilizar várias técnicas para melhorar o nosso modelo, e tendo em vista que já utilizamos uma transformação logarítmica na variável dependente - np.log(tip) - , abaixo, testaremos uma transformação log na variável net_bill e um polinômio."
   ]
  },
  {
   "cell_type": "markdown",
   "metadata": {},
   "source": [
    "# 4 teste transformar net_bill no log e um polinômio. Escolha o melhor modelo."
   ]
  },
  {
   "cell_type": "code",
   "execution_count": 138,
   "metadata": {},
   "outputs": [],
   "source": [
    "# Trabsformando net_bill no log\n",
    "tips['log_net_bill'] = np.log(tips['net_bill'])\n",
    "formula_log = 'np.log(tip) ~ log_net_bill'\n",
    "y_log, X_log = patsy.dmatrices(formula_log, data=tips)\n",
    "modelo_log = sm.OLS(y_log, X_log).fit()"
   ]
  },
  {
   "cell_type": "code",
   "execution_count": 139,
   "metadata": {},
   "outputs": [],
   "source": [
    "# Criando termos polinomiais para net_bill\n",
    "tips['net_bill_sqr'] = tips['net_bill'] ** 2 \n",
    "formula_pol = 'np.log(tip) ~ net_bill + net_bill_sqr'\n",
    "y_pol, X_pol = patsy.dmatrices(formula_pol, data=tips)\n",
    "modelo_pol = sm.OLS(y_pol, X_pol).fit()"
   ]
  },
  {
   "cell_type": "code",
   "execution_count": 140,
   "metadata": {},
   "outputs": [
    {
     "name": "stdout",
     "output_type": "stream",
     "text": [
      "Modelo Logarítmico:\n",
      "                            OLS Regression Results                            \n",
      "==============================================================================\n",
      "Dep. Variable:            np.log(tip)   R-squared:                       0.319\n",
      "Model:                            OLS   Adj. R-squared:                  0.316\n",
      "Method:                 Least Squares   F-statistic:                     113.5\n",
      "Date:                Sun, 07 Jan 2024   Prob (F-statistic):           5.62e-22\n",
      "Time:                        16:12:58   Log-Likelihood:                -96.357\n",
      "No. Observations:                 244   AIC:                             196.7\n",
      "Df Residuals:                     242   BIC:                             203.7\n",
      "Df Model:                           1                                         \n",
      "Covariance Type:            nonrobust                                         \n",
      "================================================================================\n",
      "                   coef    std err          t      P>|t|      [0.025      0.975]\n",
      "--------------------------------------------------------------------------------\n",
      "Intercept       -0.3942      0.133     -2.961      0.003      -0.657      -0.132\n",
      "log_net_bill     0.5151      0.048     10.652      0.000       0.420       0.610\n",
      "==============================================================================\n",
      "Omnibus:                       12.633   Durbin-Watson:                   1.976\n",
      "Prob(Omnibus):                  0.002   Jarque-Bera (JB):               28.054\n",
      "Skew:                           0.141   Prob(JB):                     8.10e-07\n",
      "Kurtosis:                       4.637   Cond. No.                         17.9\n",
      "==============================================================================\n",
      "\n",
      "Notes:\n",
      "[1] Standard Errors assume that the covariance matrix of the errors is correctly specified.\n",
      "\n",
      "Modelo Polinomial:\n",
      "                            OLS Regression Results                            \n",
      "==============================================================================\n",
      "Dep. Variable:            np.log(tip)   R-squared:                       0.338\n",
      "Model:                            OLS   Adj. R-squared:                  0.332\n",
      "Method:                 Least Squares   F-statistic:                     61.39\n",
      "Date:                Sun, 07 Jan 2024   Prob (F-statistic):           2.82e-22\n",
      "Time:                        16:12:58   Log-Likelihood:                -93.026\n",
      "No. Observations:                 244   AIC:                             192.1\n",
      "Df Residuals:                     241   BIC:                             202.5\n",
      "Df Model:                           2                                         \n",
      "Covariance Type:            nonrobust                                         \n",
      "================================================================================\n",
      "                   coef    std err          t      P>|t|      [0.025      0.975]\n",
      "--------------------------------------------------------------------------------\n",
      "Intercept        0.1887      0.111      1.698      0.091      -0.030       0.408\n",
      "net_bill         0.0655      0.012      5.642      0.000       0.043       0.088\n",
      "net_bill_sqr    -0.0008      0.000     -3.129      0.002      -0.001      -0.000\n",
      "==============================================================================\n",
      "Omnibus:                        5.692   Durbin-Watson:                   1.954\n",
      "Prob(Omnibus):                  0.058   Jarque-Bera (JB):                7.934\n",
      "Skew:                          -0.100   Prob(JB):                       0.0189\n",
      "Kurtosis:                       3.860   Cond. No.                     2.42e+03\n",
      "==============================================================================\n",
      "\n",
      "Notes:\n",
      "[1] Standard Errors assume that the covariance matrix of the errors is correctly specified.\n",
      "[2] The condition number is large, 2.42e+03. This might indicate that there are\n",
      "strong multicollinearity or other numerical problems.\n"
     ]
    }
   ],
   "source": [
    "#Comparando os modelos\n",
    "print('Modelo Logarítmico:')\n",
    "print(modelo_log.summary())\n",
    "print('\\nModelo Polinomial:')\n",
    "print(modelo_pol.summary())\n"
   ]
  },
  {
   "cell_type": "markdown",
   "metadata": {},
   "source": [
    "Modelo Logarítmico (net_bill transformado em logaritmo): R-quadrado = 0.319\n",
    "Modelo Polinomial (net_bill e net_bill ao quadrado): R-quadrado = 0.338"
   ]
  },
  {
   "cell_type": "markdown",
   "metadata": {},
   "source": [
    "Conclusões finais: modelo polinomial parece ser melhor porque tem um R-quadrado mais alto, o que indica que ele captura mais da variabilidade dos dados. A inclusão do termo ao quadrado na variável net_bill permite que o modelo ajuste curvaturas potenciais na relação entre net_bill e a gorjeta, o que pode ser uma característica real dos dados que um modelo linear simples ou um modelo log-linear não captura. Em outras palavras, a relação entre a conta líquida e a gorjeta pode não ser estritamente linear ou log-linear, mas sim polinomial, onde a taxa de aumento (ou diminuição) da gorjeta muda à medida que a conta líquida aumenta. "
   ]
  },
  {
   "cell_type": "markdown",
   "metadata": {},
   "source": [
    "### III. Previsão de renda\n",
    "\n",
    "Vamos trabalhar a base que você vai usar no projeto do final deste ciclo.\n",
    "\n",
    "Carregue a base ```previsao_de_renda.csv```.\n",
    "\n",
    "|variavel|descrição|\n",
    "|-|-|\n",
    "|data_ref                | Data de referência de coleta das variáveis |\n",
    "|index                   | Código de identificação do cliente|\n",
    "|sexo                    | Sexo do cliente|\n",
    "|posse_de_veiculo        | Indica se o cliente possui veículo|\n",
    "|posse_de_imovel         | Indica se o cliente possui imóvel|\n",
    "|qtd_filhos              | Quantidade de filhos do cliente|\n",
    "|tipo_renda              | Tipo de renda do cliente|\n",
    "|educacao                | Grau de instrução do cliente|\n",
    "|estado_civil            | Estado civil do cliente|\n",
    "|tipo_residencia         | Tipo de residência do cliente (própria, alugada etc)|\n",
    "|idade                   | Idade do cliente|\n",
    "|tempo_emprego           | Tempo no emprego atual|\n",
    "|qt_pessoas_residencia   | Quantidade de pessoas que moram na residência|\n",
    "|renda                   | Renda em reais|\n",
    "\n",
    "1. Ajuste um modelo de regressão linear simples para explicar ```renda``` como variável resposta, por ```tempo_emprego``` como variável explicativa. Observe que há muitas observações nessa tabela. Utilize os recursos que achar necessário.\n",
    "2. Faça uma análise de resíduos. Com os recursos vistos neste módulo, como você melhoraria esta regressão?\n",
    "3. Ajuste um modelo de regressão linear múltipla para explicar ```renda``` (ou uma transformação de ```renda```) de acordo com as demais variáveis.\n",
    "4. Remova as variáveis não significantes e ajuste novamente o modelo. Interprete os parâmetros\n",
    "5. Faça uma análise de resíduos. Avalie a qualidade do ajuste."
   ]
  },
  {
   "cell_type": "code",
   "execution_count": 141,
   "metadata": {},
   "outputs": [],
   "source": [
    "data = pd.read_csv('previsao_de_renda.csv.csv')"
   ]
  },
  {
   "cell_type": "code",
   "execution_count": 142,
   "metadata": {
    "scrolled": true
   },
   "outputs": [
    {
     "data": {
      "text/html": [
       "<div>\n",
       "<style scoped>\n",
       "    .dataframe tbody tr th:only-of-type {\n",
       "        vertical-align: middle;\n",
       "    }\n",
       "\n",
       "    .dataframe tbody tr th {\n",
       "        vertical-align: top;\n",
       "    }\n",
       "\n",
       "    .dataframe thead th {\n",
       "        text-align: right;\n",
       "    }\n",
       "</style>\n",
       "<table border=\"1\" class=\"dataframe\">\n",
       "  <thead>\n",
       "    <tr style=\"text-align: right;\">\n",
       "      <th></th>\n",
       "      <th>Unnamed: 0</th>\n",
       "      <th>data_ref</th>\n",
       "      <th>id_cliente</th>\n",
       "      <th>sexo</th>\n",
       "      <th>posse_de_veiculo</th>\n",
       "      <th>posse_de_imovel</th>\n",
       "      <th>qtd_filhos</th>\n",
       "      <th>tipo_renda</th>\n",
       "      <th>educacao</th>\n",
       "      <th>estado_civil</th>\n",
       "      <th>tipo_residencia</th>\n",
       "      <th>idade</th>\n",
       "      <th>tempo_emprego</th>\n",
       "      <th>qt_pessoas_residencia</th>\n",
       "      <th>renda</th>\n",
       "    </tr>\n",
       "  </thead>\n",
       "  <tbody>\n",
       "    <tr>\n",
       "      <th>0</th>\n",
       "      <td>0</td>\n",
       "      <td>2015-01-01</td>\n",
       "      <td>15056.0</td>\n",
       "      <td>F</td>\n",
       "      <td>False</td>\n",
       "      <td>True</td>\n",
       "      <td>0.0</td>\n",
       "      <td>Empresário</td>\n",
       "      <td>Secundário</td>\n",
       "      <td>Solteiro</td>\n",
       "      <td>Casa</td>\n",
       "      <td>26.0</td>\n",
       "      <td>6.602740</td>\n",
       "      <td>1.0</td>\n",
       "      <td>8060.34</td>\n",
       "    </tr>\n",
       "    <tr>\n",
       "      <th>1</th>\n",
       "      <td>1</td>\n",
       "      <td>2015-01-01</td>\n",
       "      <td>9968.0</td>\n",
       "      <td>M</td>\n",
       "      <td>True</td>\n",
       "      <td>True</td>\n",
       "      <td>0.0</td>\n",
       "      <td>Assalariado</td>\n",
       "      <td>Superior completo</td>\n",
       "      <td>Casado</td>\n",
       "      <td>Casa</td>\n",
       "      <td>28.0</td>\n",
       "      <td>7.183562</td>\n",
       "      <td>2.0</td>\n",
       "      <td>1852.15</td>\n",
       "    </tr>\n",
       "    <tr>\n",
       "      <th>2</th>\n",
       "      <td>2</td>\n",
       "      <td>2015-01-01</td>\n",
       "      <td>4312.0</td>\n",
       "      <td>F</td>\n",
       "      <td>True</td>\n",
       "      <td>True</td>\n",
       "      <td>0.0</td>\n",
       "      <td>Empresário</td>\n",
       "      <td>Superior completo</td>\n",
       "      <td>Casado</td>\n",
       "      <td>Casa</td>\n",
       "      <td>35.0</td>\n",
       "      <td>0.838356</td>\n",
       "      <td>2.0</td>\n",
       "      <td>2253.89</td>\n",
       "    </tr>\n",
       "    <tr>\n",
       "      <th>3</th>\n",
       "      <td>3</td>\n",
       "      <td>2015-01-01</td>\n",
       "      <td>10639.0</td>\n",
       "      <td>F</td>\n",
       "      <td>False</td>\n",
       "      <td>True</td>\n",
       "      <td>1.0</td>\n",
       "      <td>Servidor público</td>\n",
       "      <td>Superior completo</td>\n",
       "      <td>Casado</td>\n",
       "      <td>Casa</td>\n",
       "      <td>30.0</td>\n",
       "      <td>4.846575</td>\n",
       "      <td>3.0</td>\n",
       "      <td>6600.77</td>\n",
       "    </tr>\n",
       "    <tr>\n",
       "      <th>4</th>\n",
       "      <td>4</td>\n",
       "      <td>2015-01-01</td>\n",
       "      <td>7064.0</td>\n",
       "      <td>M</td>\n",
       "      <td>True</td>\n",
       "      <td>False</td>\n",
       "      <td>0.0</td>\n",
       "      <td>Assalariado</td>\n",
       "      <td>Secundário</td>\n",
       "      <td>Solteiro</td>\n",
       "      <td>Governamental</td>\n",
       "      <td>33.0</td>\n",
       "      <td>4.293151</td>\n",
       "      <td>1.0</td>\n",
       "      <td>6475.97</td>\n",
       "    </tr>\n",
       "  </tbody>\n",
       "</table>\n",
       "</div>"
      ],
      "text/plain": [
       "   Unnamed: 0    data_ref  id_cliente sexo posse_de_veiculo posse_de_imovel  \\\n",
       "0           0  2015-01-01     15056.0    F            False            True   \n",
       "1           1  2015-01-01      9968.0    M             True            True   \n",
       "2           2  2015-01-01      4312.0    F             True            True   \n",
       "3           3  2015-01-01     10639.0    F            False            True   \n",
       "4           4  2015-01-01      7064.0    M             True           False   \n",
       "\n",
       "   qtd_filhos        tipo_renda           educacao estado_civil  \\\n",
       "0         0.0        Empresário         Secundário     Solteiro   \n",
       "1         0.0       Assalariado  Superior completo       Casado   \n",
       "2         0.0        Empresário  Superior completo       Casado   \n",
       "3         1.0  Servidor público  Superior completo       Casado   \n",
       "4         0.0       Assalariado         Secundário     Solteiro   \n",
       "\n",
       "  tipo_residencia  idade  tempo_emprego  qt_pessoas_residencia    renda  \n",
       "0            Casa   26.0       6.602740                    1.0  8060.34  \n",
       "1            Casa   28.0       7.183562                    2.0  1852.15  \n",
       "2            Casa   35.0       0.838356                    2.0  2253.89  \n",
       "3            Casa   30.0       4.846575                    3.0  6600.77  \n",
       "4   Governamental   33.0       4.293151                    1.0  6475.97  "
      ]
     },
     "execution_count": 142,
     "metadata": {},
     "output_type": "execute_result"
    }
   ],
   "source": [
    "data.head()"
   ]
  },
  {
   "cell_type": "markdown",
   "metadata": {},
   "source": [
    "1 - Ajuste um modelo de regressão linear simples para explicar renda como variável resposta, por tempo_emprego como variável explicativa. Observe que há muitas observações nessa tabela. Utilize os recursos que achar necessário."
   ]
  },
  {
   "cell_type": "code",
   "execution_count": 143,
   "metadata": {},
   "outputs": [
    {
     "data": {
      "text/plain": [
       "(11689, 15)"
      ]
     },
     "execution_count": 143,
     "metadata": {},
     "output_type": "execute_result"
    }
   ],
   "source": [
    "data.shape"
   ]
  },
  {
   "cell_type": "code",
   "execution_count": 144,
   "metadata": {},
   "outputs": [
    {
     "data": {
      "text/plain": [
       "Unnamed: 0                  0\n",
       "data_ref                    0\n",
       "id_cliente                  1\n",
       "sexo                        1\n",
       "posse_de_veiculo            1\n",
       "posse_de_imovel             1\n",
       "qtd_filhos                  1\n",
       "tipo_renda                  1\n",
       "educacao                    1\n",
       "estado_civil                1\n",
       "tipo_residencia             1\n",
       "idade                       1\n",
       "tempo_emprego            1985\n",
       "qt_pessoas_residencia       1\n",
       "renda                       1\n",
       "dtype: int64"
      ]
     },
     "execution_count": 144,
     "metadata": {},
     "output_type": "execute_result"
    }
   ],
   "source": [
    "#Verificando valores ausentes\n",
    "data.isnull().sum()"
   ]
  },
  {
   "cell_type": "markdown",
   "metadata": {},
   "source": [
    "Após a verificação dos valores ausentes, notamos que em nossas variáveis de interesse possuímos 1985 valores ausentes em 'tempo_emprego' e 1 valor ausente em 'renda'.\n",
    "\n",
    "Poderíamos aplicar varias abordagens, porém, optamos por utilizar a mediana para ambos os casos. A exclusão dos valores ausentes em tempo_emprego por exemplo, afetaria diretamente nosso modelo, seja devido a uma quantidade substancial de dados excluídos, seja também porque necessariamente teríamos que excluir valor presentes na coluna renda com o intuíto de equilibrar o nosso dataframe. "
   ]
  },
  {
   "cell_type": "code",
   "execution_count": 145,
   "metadata": {},
   "outputs": [],
   "source": [
    "#imputação de mediana dos valores ausentes em renda\n",
    "mediana_renda = data['renda'].median()\n",
    "\n",
    "data['renda'] = data['renda'].fillna(mediana_renda)"
   ]
  },
  {
   "cell_type": "code",
   "execution_count": 146,
   "metadata": {},
   "outputs": [],
   "source": [
    "#imputação de mediana dos valores ausentes em tempo_emprego\n",
    "mediana_tempo_emprego = data['tempo_emprego'].median()\n",
    "\n",
    "data['tempo_emprego'] = data['tempo_emprego'].fillna(mediana_tempo_emprego)\n"
   ]
  },
  {
   "cell_type": "code",
   "execution_count": 147,
   "metadata": {},
   "outputs": [
    {
     "data": {
      "text/plain": [
       "Unnamed: 0               0\n",
       "data_ref                 0\n",
       "id_cliente               1\n",
       "sexo                     1\n",
       "posse_de_veiculo         1\n",
       "posse_de_imovel          1\n",
       "qtd_filhos               1\n",
       "tipo_renda               1\n",
       "educacao                 1\n",
       "estado_civil             1\n",
       "tipo_residencia          1\n",
       "idade                    1\n",
       "tempo_emprego            0\n",
       "qt_pessoas_residencia    1\n",
       "renda                    0\n",
       "dtype: int64"
      ]
     },
     "execution_count": 147,
     "metadata": {},
     "output_type": "execute_result"
    }
   ],
   "source": [
    "data.isnull().sum()"
   ]
  },
  {
   "cell_type": "markdown",
   "metadata": {},
   "source": [
    "Como podemos notar, após o tratamento dos dados ausentes com a mediana, agora temos zero valores nulos para as nossas colunas de interesse."
   ]
  },
  {
   "cell_type": "code",
   "execution_count": 148,
   "metadata": {},
   "outputs": [
    {
     "name": "stdout",
     "output_type": "stream",
     "text": [
      "                            OLS Regression Results                            \n",
      "==============================================================================\n",
      "Dep. Variable:                  renda   R-squared:                       0.150\n",
      "Model:                            OLS   Adj. R-squared:                  0.150\n",
      "Method:                 Least Squares   F-statistic:                     2058.\n",
      "Date:                Sun, 07 Jan 2024   Prob (F-statistic):               0.00\n",
      "Time:                        16:13:02   Log-Likelihood:            -1.2129e+05\n",
      "No. Observations:               11689   AIC:                         2.426e+05\n",
      "Df Residuals:                   11687   BIC:                         2.426e+05\n",
      "Df Model:                           1                                         \n",
      "Covariance Type:            nonrobust                                         \n",
      "=================================================================================\n",
      "                    coef    std err          t      P>|t|      [0.025      0.975]\n",
      "---------------------------------------------------------------------------------\n",
      "Intercept      1788.2336    112.512     15.894      0.000    1567.691    2008.776\n",
      "tempo_emprego   530.2114     11.688     45.364      0.000     507.301     553.121\n",
      "==============================================================================\n",
      "Omnibus:                    17147.644   Durbin-Watson:                   2.022\n",
      "Prob(Omnibus):                  0.000   Jarque-Bera (JB):         11323972.296\n",
      "Skew:                           8.696   Prob(JB):                         0.00\n",
      "Kurtosis:                     154.486   Cond. No.                         15.2\n",
      "==============================================================================\n",
      "\n",
      "Notes:\n",
      "[1] Standard Errors assume that the covariance matrix of the errors is correctly specified.\n"
     ]
    }
   ],
   "source": [
    "# Explicar renda como variável resposta, por tempo_emprego como variável explicativa\n",
    "\n",
    "formula = 'renda ~ tempo_emprego'\n",
    "\n",
    "y, X = patsy.dmatrices(formula, data=data)\n",
    "\n",
    "modelo_simples = sm.OLS(y, X).fit()\n",
    "\n",
    "print(modelo_simples.summary())"
   ]
  },
  {
   "cell_type": "markdown",
   "metadata": {},
   "source": [
    "Como resultado do modelo de regressão linear simples acima, obtivemos um R-quadrado de 0.150. Este valor sugere que cerca de 15% da variabilidade na renda pode ser explicada pelo tempo_emprego. Em outras palavras, o tempo_emprego como variável única fornece uma explicação limitada para a variação na renda dos indivíduos."
   ]
  },
  {
   "cell_type": "markdown",
   "metadata": {},
   "source": [
    "2 Faça uma análise de resíduos. Com os recursos vistos neste módulo, como você melhoraria esta regressão?"
   ]
  },
  {
   "cell_type": "code",
   "execution_count": 149,
   "metadata": {},
   "outputs": [
    {
     "data": {
      "image/png": "[encoded data removed]",
      "text/plain": [
       "<Figure size 1000x600 with 1 Axes>"
      ]
     },
     "metadata": {},
     "output_type": "display_data"
    }
   ],
   "source": [
    "#pltando um gráfico de resíduos\n",
    "\n",
    "residuos = modelo_simples.resid\n",
    "\n",
    "# Plotando resíduos vs. valores ajustados\n",
    "plt.figure(figsize=(10, 6))\n",
    "sns.scatterplot(x=modelo_simples.fittedvalues, y=residuos)\n",
    "plt.axhline(y=0, color='red', linestyle='--')\n",
    "plt.xlabel('Valores Ajustados')\n",
    "plt.ylabel('Resíduos')\n",
    "plt.title('Resíduos vs. Valores Ajustados')\n",
    "plt.show()"
   ]
  },
  {
   "cell_type": "markdown",
   "metadata": {},
   "source": [
    "Conforme o gráfico de resíduos acima nos apresenta, o modelo de regressão linear simples (com apenas duas variáveis) não performou bem: R quadrado = 0.150. A grande quantidade de resíduos acima do ponto 0 no eixo x sugere que a regressão previu um valor menor do que o valor real observado da variável dependente, neste caso, a renda. Em outras palavras, os resíduos positivos indicam subestimação pelo modelo.\n",
    "\n",
    "Embora poderíamos utilizar outras técnicas em nosso modelo como transformação logarítmica ou polinomial, parece improvável que possamos obter um resultado aceitável dado que o nosso R-quadrado foi muito baixo.\n",
    "\n",
    "Como nosso dataset possui uma quantidade substancial de outras variáveis, tentaremos agora utilizá-las e, em seguida, compararemos os resultados."
   ]
  },
  {
   "cell_type": "markdown",
   "metadata": {},
   "source": [
    "3 - Ajuste um modelo de regressão linear múltipla para explicar renda (ou uma transformação de renda) de acordo com as demais variáveis."
   ]
  },
  {
   "cell_type": "markdown",
   "metadata": {},
   "source": [
    "Conforme observamos anteriormente, em nosso dataframe possuímos valores nulos que a princípio não precisaríamos tratá-los, agora para que possamos utilizar todas as variáveis o tratamento destes dados se faz necessário "
   ]
  },
  {
   "cell_type": "code",
   "execution_count": 150,
   "metadata": {},
   "outputs": [
    {
     "data": {
      "text/plain": [
       "Unnamed: 0               0\n",
       "data_ref                 0\n",
       "id_cliente               1\n",
       "sexo                     1\n",
       "posse_de_veiculo         1\n",
       "posse_de_imovel          1\n",
       "qtd_filhos               1\n",
       "tipo_renda               1\n",
       "educacao                 1\n",
       "estado_civil             1\n",
       "tipo_residencia          1\n",
       "idade                    1\n",
       "tempo_emprego            0\n",
       "qt_pessoas_residencia    1\n",
       "renda                    0\n",
       "dtype: int64"
      ]
     },
     "execution_count": 150,
     "metadata": {},
     "output_type": "execute_result"
    }
   ],
   "source": [
    "data.isnull().sum()"
   ]
  },
  {
   "cell_type": "markdown",
   "metadata": {},
   "source": [
    "Observamos que, dada a sua natureza, a variável id_cliente e unnamed não são significativas, nosso primeiro passo portanto será excluí-la de nosso DataFrame\n"
   ]
  },
  {
   "cell_type": "code",
   "execution_count": 152,
   "metadata": {},
   "outputs": [],
   "source": [
    "data = data.drop('id_cliente', axis=1)\n",
    "data = data.drop('Unnamed: 0', axis=1)\n"
   ]
  },
  {
   "cell_type": "code",
   "execution_count": 153,
   "metadata": {},
   "outputs": [
    {
     "data": {
      "text/html": [
       "<div>\n",
       "<style scoped>\n",
       "    .dataframe tbody tr th:only-of-type {\n",
       "        vertical-align: middle;\n",
       "    }\n",
       "\n",
       "    .dataframe tbody tr th {\n",
       "        vertical-align: top;\n",
       "    }\n",
       "\n",
       "    .dataframe thead th {\n",
       "        text-align: right;\n",
       "    }\n",
       "</style>\n",
       "<table border=\"1\" class=\"dataframe\">\n",
       "  <thead>\n",
       "    <tr style=\"text-align: right;\">\n",
       "      <th></th>\n",
       "      <th>data_ref</th>\n",
       "      <th>sexo</th>\n",
       "      <th>posse_de_veiculo</th>\n",
       "      <th>posse_de_imovel</th>\n",
       "      <th>qtd_filhos</th>\n",
       "      <th>tipo_renda</th>\n",
       "      <th>educacao</th>\n",
       "      <th>estado_civil</th>\n",
       "      <th>tipo_residencia</th>\n",
       "      <th>idade</th>\n",
       "      <th>tempo_emprego</th>\n",
       "      <th>qt_pessoas_residencia</th>\n",
       "      <th>renda</th>\n",
       "    </tr>\n",
       "  </thead>\n",
       "  <tbody>\n",
       "    <tr>\n",
       "      <th>0</th>\n",
       "      <td>2015-01-01</td>\n",
       "      <td>F</td>\n",
       "      <td>False</td>\n",
       "      <td>True</td>\n",
       "      <td>0.0</td>\n",
       "      <td>Empresário</td>\n",
       "      <td>Secundário</td>\n",
       "      <td>Solteiro</td>\n",
       "      <td>Casa</td>\n",
       "      <td>26.0</td>\n",
       "      <td>6.602740</td>\n",
       "      <td>1.0</td>\n",
       "      <td>8060.34</td>\n",
       "    </tr>\n",
       "    <tr>\n",
       "      <th>1</th>\n",
       "      <td>2015-01-01</td>\n",
       "      <td>M</td>\n",
       "      <td>True</td>\n",
       "      <td>True</td>\n",
       "      <td>0.0</td>\n",
       "      <td>Assalariado</td>\n",
       "      <td>Superior completo</td>\n",
       "      <td>Casado</td>\n",
       "      <td>Casa</td>\n",
       "      <td>28.0</td>\n",
       "      <td>7.183562</td>\n",
       "      <td>2.0</td>\n",
       "      <td>1852.15</td>\n",
       "    </tr>\n",
       "    <tr>\n",
       "      <th>2</th>\n",
       "      <td>2015-01-01</td>\n",
       "      <td>F</td>\n",
       "      <td>True</td>\n",
       "      <td>True</td>\n",
       "      <td>0.0</td>\n",
       "      <td>Empresário</td>\n",
       "      <td>Superior completo</td>\n",
       "      <td>Casado</td>\n",
       "      <td>Casa</td>\n",
       "      <td>35.0</td>\n",
       "      <td>0.838356</td>\n",
       "      <td>2.0</td>\n",
       "      <td>2253.89</td>\n",
       "    </tr>\n",
       "    <tr>\n",
       "      <th>3</th>\n",
       "      <td>2015-01-01</td>\n",
       "      <td>F</td>\n",
       "      <td>False</td>\n",
       "      <td>True</td>\n",
       "      <td>1.0</td>\n",
       "      <td>Servidor público</td>\n",
       "      <td>Superior completo</td>\n",
       "      <td>Casado</td>\n",
       "      <td>Casa</td>\n",
       "      <td>30.0</td>\n",
       "      <td>4.846575</td>\n",
       "      <td>3.0</td>\n",
       "      <td>6600.77</td>\n",
       "    </tr>\n",
       "    <tr>\n",
       "      <th>4</th>\n",
       "      <td>2015-01-01</td>\n",
       "      <td>M</td>\n",
       "      <td>True</td>\n",
       "      <td>False</td>\n",
       "      <td>0.0</td>\n",
       "      <td>Assalariado</td>\n",
       "      <td>Secundário</td>\n",
       "      <td>Solteiro</td>\n",
       "      <td>Governamental</td>\n",
       "      <td>33.0</td>\n",
       "      <td>4.293151</td>\n",
       "      <td>1.0</td>\n",
       "      <td>6475.97</td>\n",
       "    </tr>\n",
       "  </tbody>\n",
       "</table>\n",
       "</div>"
      ],
      "text/plain": [
       "     data_ref sexo posse_de_veiculo posse_de_imovel  qtd_filhos  \\\n",
       "0  2015-01-01    F            False            True         0.0   \n",
       "1  2015-01-01    M             True            True         0.0   \n",
       "2  2015-01-01    F             True            True         0.0   \n",
       "3  2015-01-01    F            False            True         1.0   \n",
       "4  2015-01-01    M             True           False         0.0   \n",
       "\n",
       "         tipo_renda           educacao estado_civil tipo_residencia  idade  \\\n",
       "0        Empresário         Secundário     Solteiro            Casa   26.0   \n",
       "1       Assalariado  Superior completo       Casado            Casa   28.0   \n",
       "2        Empresário  Superior completo       Casado            Casa   35.0   \n",
       "3  Servidor público  Superior completo       Casado            Casa   30.0   \n",
       "4       Assalariado         Secundário     Solteiro   Governamental   33.0   \n",
       "\n",
       "   tempo_emprego  qt_pessoas_residencia    renda  \n",
       "0       6.602740                    1.0  8060.34  \n",
       "1       7.183562                    2.0  1852.15  \n",
       "2       0.838356                    2.0  2253.89  \n",
       "3       4.846575                    3.0  6600.77  \n",
       "4       4.293151                    1.0  6475.97  "
      ]
     },
     "execution_count": 153,
     "metadata": {},
     "output_type": "execute_result"
    }
   ],
   "source": [
    "data.head()"
   ]
  },
  {
   "cell_type": "code",
   "execution_count": 155,
   "metadata": {},
   "outputs": [
    {
     "name": "stdout",
     "output_type": "stream",
     "text": [
      "object\n"
     ]
    }
   ],
   "source": [
    "print(data['data_ref'].dtype)\n"
   ]
  },
  {
   "cell_type": "markdown",
   "metadata": {},
   "source": [
    "Percebemos que a coluna 'data_ref' está no formato object. Inicialmente ela parece ser irrelevante, porém, pretendemos analisar isso com mais cuidado mais à frente. Por hora a transformaremos no formato no formato datetime para que nosso modelo performe melhor."
   ]
  },
  {
   "cell_type": "code",
   "execution_count": 158,
   "metadata": {},
   "outputs": [],
   "source": [
    "data['data_ref'] = pd.to_datetime(data['data_ref'])"
   ]
  },
  {
   "cell_type": "code",
   "execution_count": 162,
   "metadata": {},
   "outputs": [
    {
     "name": "stdout",
     "output_type": "stream",
     "text": [
      "datetime64[ns]\n"
     ]
    }
   ],
   "source": [
    "#Confirmando a transformação da coluna data_ref para datetime'\n",
    "print(data['data_ref'].dtype)"
   ]
  },
  {
   "cell_type": "code",
   "execution_count": 163,
   "metadata": {},
   "outputs": [
    {
     "data": {
      "text/plain": [
       "data_ref                 0\n",
       "sexo                     1\n",
       "posse_de_veiculo         1\n",
       "posse_de_imovel          1\n",
       "qtd_filhos               1\n",
       "tipo_renda               1\n",
       "educacao                 1\n",
       "estado_civil             1\n",
       "tipo_residencia          1\n",
       "idade                    1\n",
       "tempo_emprego            0\n",
       "qt_pessoas_residencia    1\n",
       "renda                    0\n",
       "dtype: int64"
      ]
     },
     "execution_count": 163,
     "metadata": {},
     "output_type": "execute_result"
    }
   ],
   "source": [
    "#Checando novamente valores nulos\n",
    "data.isnull().sum()"
   ]
  },
  {
   "cell_type": "markdown",
   "metadata": {},
   "source": [
    "Agora que excluímos variáveis visivelmente insignificantes, vamos lidar com os demais valores nulos em nosso DataFrame. \n",
    "Poderíamos usar técnicas de imputação de dados como moda para variáveis categóricas e media ou mediana para variáveis numéricas. Porém, como os valores nulos estão presentes em apenas uma linha das nossas colunas, optaremos por utilizar o método drop.na() que excluirá cada linha com valores nulos e afetará todas as demais colunas, porém, não deve afetar o resultado dos nossos futuros modelos."
   ]
  },
  {
   "cell_type": "code",
   "execution_count": 170,
   "metadata": {},
   "outputs": [
    {
     "data": {
      "text/plain": [
       "data_ref                 0\n",
       "sexo                     0\n",
       "posse_de_veiculo         0\n",
       "posse_de_imovel          0\n",
       "qtd_filhos               0\n",
       "tipo_renda               0\n",
       "educacao                 0\n",
       "estado_civil             0\n",
       "tipo_residencia          0\n",
       "idade                    0\n",
       "tempo_emprego            0\n",
       "qt_pessoas_residencia    0\n",
       "renda                    0\n",
       "dtype: int64"
      ]
     },
     "execution_count": 170,
     "metadata": {},
     "output_type": "execute_result"
    }
   ],
   "source": [
    "#Checando novamente os valores nulos\n",
    "data.isnull().sum()"
   ]
  },
  {
   "cell_type": "code",
   "execution_count": 171,
   "metadata": {},
   "outputs": [
    {
     "name": "stdout",
     "output_type": "stream",
     "text": [
      "data_ref                 11688\n",
      "sexo                     11688\n",
      "posse_de_veiculo         11688\n",
      "posse_de_imovel          11688\n",
      "qtd_filhos               11688\n",
      "tipo_renda               11688\n",
      "educacao                 11688\n",
      "estado_civil             11688\n",
      "tipo_residencia          11688\n",
      "idade                    11688\n",
      "tempo_emprego            11688\n",
      "qt_pessoas_residencia    11688\n",
      "renda                    11688\n",
      "dtype: int64\n"
     ]
    }
   ],
   "source": [
    "#Verificando se o número de linhas é equivalente em todas as colunas\n",
    "data_count = data.count()\n",
    "print(data_count)\n",
    "\n"
   ]
  },
  {
   "cell_type": "markdown",
   "metadata": {},
   "source": [
    "Conforme podemos observar acima, removemos as colunas visivelmente não significativas, excluímos as linhas com dados ausentes, obtivemos um DataFrame sem dados nulos e notamos que todas as colunas resultantes possuem a mesma quantidade de dados.\n",
    "\n",
    "Nosso próximo passo é criar um modelo de Regressão Linear Múltipla, neste caso, utilizaremos todas as colunas disponíveis e comparaemos com o modelo anterior (simples)\n",
    "\n",
    "Devemos lembrar que possuímos variáveis de vários formatos em nosso DF, porém o Patsy deve transformá-las em dummy automaticamente"
   ]
  },
  {
   "cell_type": "code",
   "execution_count": 176,
   "metadata": {},
   "outputs": [
    {
     "name": "stdout",
     "output_type": "stream",
     "text": [
      "                            OLS Regression Results                            \n",
      "==============================================================================\n",
      "Dep. Variable:                  renda   R-squared:                       0.260\n",
      "Model:                            OLS   Adj. R-squared:                  0.258\n",
      "Method:                 Least Squares   F-statistic:                     116.9\n",
      "Date:                Sun, 07 Jan 2024   Prob (F-statistic):               0.00\n",
      "Time:                        17:01:52   Log-Likelihood:            -1.2047e+05\n",
      "No. Observations:               11688   AIC:                         2.410e+05\n",
      "Df Residuals:                   11652   BIC:                         2.413e+05\n",
      "Df Model:                          35                                         \n",
      "Covariance Type:            nonrobust                                         \n",
      "================================================================================================================\n",
      "                                                   coef    std err          t      P>|t|      [0.025      0.975]\n",
      "----------------------------------------------------------------------------------------------------------------\n",
      "Intercept                                    -3559.7990   3121.063     -1.141      0.254   -9677.606    2558.008\n",
      "sexo[T.M]                                     5880.8915    158.561     37.089      0.000    5570.085    6191.698\n",
      "posse_de_veiculo[T.True]                       -11.1720    150.185     -0.074      0.941    -305.560     283.216\n",
      "posse_de_imovel[T.True]                        411.7917    147.860      2.785      0.005     121.962     701.622\n",
      "tipo_renda[T.Bolsista]                       -2237.3402   2969.399     -0.753      0.451   -8057.860    3583.179\n",
      "tipo_renda[T.Empresário]                       800.5512    170.142      4.705      0.000     467.043    1134.059\n",
      "tipo_renda[T.Pensionista]                     -634.3042    246.248     -2.576      0.010   -1116.992    -151.617\n",
      "tipo_renda[T.Servidor público]                -232.1007    254.465     -0.912      0.362    -730.894     266.693\n",
      "educacao[T.Pós graduação]                      754.9701   1753.142      0.431      0.667   -2681.482    4191.422\n",
      "educacao[T.Secundário]                          57.1562    655.617      0.087      0.931   -1227.964    1342.276\n",
      "educacao[T.Superior completo]                  781.3443    662.078      1.180      0.238    -516.440    2079.128\n",
      "educacao[T.Superior incompleto]               -176.0449    740.392     -0.238      0.812   -1627.337    1275.247\n",
      "estado_civil[T.Separado]                       410.3388   1514.082      0.271      0.786   -2557.516    3378.194\n",
      "estado_civil[T.Solteiro]                       120.3387   1489.227      0.081      0.936   -2798.796    3039.474\n",
      "estado_civil[T.União]                         -357.6235    267.340     -1.338      0.181    -881.655     166.408\n",
      "estado_civil[T.Viúvo]                          280.5632   1523.991      0.184      0.854   -2706.714    3267.841\n",
      "tipo_residencia[T.Casa]                       -409.1081    594.281     -0.688      0.491   -1573.998     755.782\n",
      "tipo_residencia[T.Com os pais]                -469.6850    668.616     -0.702      0.482   -1780.284     840.914\n",
      "tipo_residencia[T.Comunitário]                -743.0650   1138.981     -0.652      0.514   -2975.659    1489.529\n",
      "tipo_residencia[T.Estúdio]                     188.9941   1071.644      0.176      0.860   -1911.607    2289.596\n",
      "tipo_residencia[T.Governamental]               188.3425    710.296      0.265      0.791   -1203.957    1580.642\n",
      "data_ref[T.Timestamp('2015-02-01 00:00:00')]   -18.9333    324.775     -0.058      0.954    -655.547     617.680\n",
      "data_ref[T.Timestamp('2015-03-01 00:00:00')]   182.9794    324.742      0.563      0.573    -453.570     819.529\n",
      "data_ref[T.Timestamp('2015-04-01 00:00:00')]   414.0136    324.832      1.275      0.202    -222.712    1050.740\n",
      "data_ref[T.Timestamp('2015-05-01 00:00:00')]   140.2418    324.724      0.432      0.666    -496.272     776.756\n",
      "data_ref[T.Timestamp('2015-06-01 00:00:00')]   496.5114    324.862      1.528      0.126    -140.273    1133.296\n",
      "data_ref[T.Timestamp('2015-07-01 00:00:00')]   271.1283    324.869      0.835      0.404    -365.670     907.926\n",
      "data_ref[T.Timestamp('2015-08-01 00:00:00')]   143.8596    324.736      0.443      0.658    -492.678     780.398\n",
      "data_ref[T.Timestamp('2015-09-01 00:00:00')]    83.1769    325.466      0.256      0.798    -554.791     721.145\n",
      "data_ref[T.Timestamp('2015-10-01 00:00:00')]   112.8269    325.595      0.347      0.729    -525.394     751.048\n",
      "data_ref[T.Timestamp('2015-11-01 00:00:00')]   286.0334    325.789      0.878      0.380    -352.568     924.635\n",
      "data_ref[T.Timestamp('2015-12-01 00:00:00')]   684.7900    360.840      1.898      0.058     -22.516    1392.096\n",
      "qtd_filhos                                    -451.2588   1488.984     -0.303      0.762   -3369.916    2467.399\n",
      "idade                                           37.7878      8.688      4.349      0.000      20.758      54.818\n",
      "tempo_emprego                                  569.3607     11.790     48.294      0.000     546.251     592.470\n",
      "qt_pessoas_residencia                          541.8780   1486.211      0.365      0.715   -2371.344    3455.100\n",
      "==============================================================================\n",
      "Omnibus:                    17736.593   Durbin-Watson:                   2.026\n",
      "Prob(Omnibus):                  0.000   Jarque-Bera (JB):         14750693.242\n",
      "Skew:                           9.232   Prob(JB):                         0.00\n",
      "Kurtosis:                     176.055   Cond. No.                     3.09e+03\n",
      "==============================================================================\n",
      "\n",
      "Notes:\n",
      "[1] Standard Errors assume that the covariance matrix of the errors is correctly specified.\n",
      "[2] The condition number is large, 3.09e+03. This might indicate that there are\n",
      "strong multicollinearity or other numerical problems.\n"
     ]
    }
   ],
   "source": [
    "#formula com renda sendo explicada por todas as variáveis\n",
    "formula = 'renda ~ sexo + posse_de_veiculo + posse_de_imovel + qtd_filhos + tipo_renda + educacao + estado_civil + tipo_residencia + idade + tempo_emprego + qt_pessoas_residencia + data_ref'\n",
    "\n",
    "#Criando a matriz de design\n",
    "y, X = patsy.dmatrices(formula, data=data)\n",
    "\n",
    "#Criando o modelo\n",
    "modelo = sm.OLS(y, X).fit()\n",
    "\n",
    "#imprimindo os resultados\n",
    "print(modelo.summary())\n"
   ]
  },
  {
   "cell_type": "markdown",
   "metadata": {},
   "source": [
    "Conforme podemos observar acima, ao utilizar todas as variáveis disponíveis, obtivemos uma melhora significativa em nosso R-quadrado: 0.260 (em comparação com a Regressão Linear Simples que obteve um R-quadrado de  0.150) . Isso significa que 26% da nossa variável 'renda' pode ser explicada através da modelagem com todas as variáveis disponíveis."
   ]
  },
  {
   "cell_type": "markdown",
   "metadata": {},
   "source": [
    "4 - Remova as variáveis não significantes e ajuste novamente o modelo. Interprete os parâmetros.\n",
    "\n",
    "Obs: Como possuímos uma grande quantidade de variáveis em nosso modelo e verificar visualmente pode não ser eficiente, utilizaremos um loop for filtrando os p-values com a expressão < 0.05. Utilizaremos a marcação: '----' após a f-string para identidicar com mais facilidade os valores significativos."
   ]
  },
  {
   "cell_type": "code",
   "execution_count": 181,
   "metadata": {},
   "outputs": [
    {
     "name": "stdout",
     "output_type": "stream",
     "text": [
      "Intercept não é estatisticamente significativo (valor p = 0.2541)\n",
      "---- sexo[T.M] é estatisticamente significativo (valor p = 0.0000)\n",
      "posse_de_veiculo[T.True] não é estatisticamente significativo (valor p = 0.9407)\n",
      "---- posse_de_imovel[T.True] é estatisticamente significativo (valor p = 0.0054)\n",
      "tipo_renda[T.Bolsista] não é estatisticamente significativo (valor p = 0.4512)\n",
      "---- tipo_renda[T.Empresário] é estatisticamente significativo (valor p = 0.0000)\n",
      "---- tipo_renda[T.Pensionista] é estatisticamente significativo (valor p = 0.0100)\n",
      "tipo_renda[T.Servidor público] não é estatisticamente significativo (valor p = 0.3617)\n",
      "educacao[T.Pós graduação] não é estatisticamente significativo (valor p = 0.6667)\n",
      "educacao[T.Secundário] não é estatisticamente significativo (valor p = 0.9305)\n",
      "educacao[T.Superior completo] não é estatisticamente significativo (valor p = 0.2380)\n",
      "educacao[T.Superior incompleto] não é estatisticamente significativo (valor p = 0.8121)\n",
      "estado_civil[T.Separado] não é estatisticamente significativo (valor p = 0.7864)\n",
      "estado_civil[T.Solteiro] não é estatisticamente significativo (valor p = 0.9356)\n",
      "estado_civil[T.União] não é estatisticamente significativo (valor p = 0.1810)\n",
      "estado_civil[T.Viúvo] não é estatisticamente significativo (valor p = 0.8539)\n",
      "tipo_residencia[T.Casa] não é estatisticamente significativo (valor p = 0.4912)\n",
      "tipo_residencia[T.Com os pais] não é estatisticamente significativo (valor p = 0.4824)\n",
      "tipo_residencia[T.Comunitário] não é estatisticamente significativo (valor p = 0.5142)\n",
      "tipo_residencia[T.Estúdio] não é estatisticamente significativo (valor p = 0.8600)\n",
      "tipo_residencia[T.Governamental] não é estatisticamente significativo (valor p = 0.7909)\n",
      "data_ref[T.Timestamp('2015-02-01 00:00:00')] não é estatisticamente significativo (valor p = 0.9535)\n",
      "data_ref[T.Timestamp('2015-03-01 00:00:00')] não é estatisticamente significativo (valor p = 0.5731)\n",
      "data_ref[T.Timestamp('2015-04-01 00:00:00')] não é estatisticamente significativo (valor p = 0.2025)\n",
      "data_ref[T.Timestamp('2015-05-01 00:00:00')] não é estatisticamente significativo (valor p = 0.6658)\n",
      "data_ref[T.Timestamp('2015-06-01 00:00:00')] não é estatisticamente significativo (valor p = 0.1264)\n",
      "data_ref[T.Timestamp('2015-07-01 00:00:00')] não é estatisticamente significativo (valor p = 0.4040)\n",
      "data_ref[T.Timestamp('2015-08-01 00:00:00')] não é estatisticamente significativo (valor p = 0.6578)\n",
      "data_ref[T.Timestamp('2015-09-01 00:00:00')] não é estatisticamente significativo (valor p = 0.7983)\n",
      "data_ref[T.Timestamp('2015-10-01 00:00:00')] não é estatisticamente significativo (valor p = 0.7290)\n",
      "data_ref[T.Timestamp('2015-11-01 00:00:00')] não é estatisticamente significativo (valor p = 0.3800)\n",
      "data_ref[T.Timestamp('2015-12-01 00:00:00')] não é estatisticamente significativo (valor p = 0.0578)\n",
      "qtd_filhos não é estatisticamente significativo (valor p = 0.7618)\n",
      "---- idade é estatisticamente significativo (valor p = 0.0000)\n",
      "---- tempo_emprego é estatisticamente significativo (valor p = 0.0000)\n",
      "qt_pessoas_residencia não é estatisticamente significativo (valor p = 0.7154)\n"
     ]
    }
   ],
   "source": [
    "\n",
    "p_values = modelo.pvalues #atribuindo os p values à variável p_values\n",
    "\n",
    "# Este loop itera sobre todas as variáveis independentes (exógenas) do modelo.\n",
    "# modelo.model.exog_names: Lista dos nomes das variáveis independentes no modelo.\n",
    "#len() # Calcula quantas variáveis independentes existem.\n",
    "# range() Cria uma sequência de números começando de 0 até o número de variáveis independentes (excluindo o último número)\n",
    "for i in range(len(modelo.model.exog_names)):\n",
    "    \n",
    "#nome_variavel = modelo.model.exog_names[i]: Para cada iteração do loop, esta linha obtém o nome da i-ésima variável independente.\n",
    "    nome_variavel = modelo.model.exog_names[i]\n",
    "#p_valor = p_values[i]: Esta linha obtém o valor p correspondente a essa variável. O índice i garante que você está pegando o valor p da variável correta.\n",
    "    p_valor = p_values[i]\n",
    "\n",
    "#Condicionais booleanas para a filtragem dos valores\n",
    "    if p_valor < 0.05:\n",
    "        print(f\"---- {nome_variavel} é estatisticamente significativo (valor p = {p_valor:.4f})\") \n",
    "    else:\n",
    "        print(f\"{nome_variavel} não é estatisticamente significativo (valor p = {p_valor:.4f})\")\n",
    "        \n",
    "#OBS> quando nos referimos à \"i-ésima variável\", estamos falando sobre a variável que está na posição marcada pelo valor atual de i.\n"
   ]
  },
  {
   "cell_type": "markdown",
   "metadata": {},
   "source": [
    "Após o código acima e seu respectivo resultado, podemos concluir que as variáveis estatisticamente significativas (identificadas com ----) são: sexo, posse_de_imovel, tipo_renda, idade e tempo_emprego.\n",
    "\n",
    "Agora com base nas variáveis mais estatisticamente significativas, criaremos um outro modelo de Regressão Linear Múltipla e compararemos os resultados:"
   ]
  },
  {
   "cell_type": "code",
   "execution_count": 182,
   "metadata": {},
   "outputs": [
    {
     "name": "stdout",
     "output_type": "stream",
     "text": [
      "                            OLS Regression Results                            \n",
      "==============================================================================\n",
      "Dep. Variable:                  renda   R-squared:                       0.257\n",
      "Model:                            OLS   Adj. R-squared:                  0.256\n",
      "Method:                 Least Squares   F-statistic:                     504.8\n",
      "Date:                Sun, 07 Jan 2024   Prob (F-statistic):               0.00\n",
      "Time:                        18:06:39   Log-Likelihood:            -1.2049e+05\n",
      "No. Observations:               11688   AIC:                         2.410e+05\n",
      "Df Residuals:                   11679   BIC:                         2.411e+05\n",
      "Df Model:                           8                                         \n",
      "Covariance Type:            nonrobust                                         \n",
      "==================================================================================================\n",
      "                                     coef    std err          t      P>|t|      [0.025      0.975]\n",
      "--------------------------------------------------------------------------------------------------\n",
      "Intercept                      -2249.6337    347.929     -6.466      0.000   -2931.633   -1567.635\n",
      "sexo[T.M]                       5901.9935    148.122     39.845      0.000    5611.650    6192.337\n",
      "posse_de_imovel[T.True]          407.0520    144.930      2.809      0.005     122.964     691.140\n",
      "tipo_renda[T.Bolsista]         -1686.1458   2967.795     -0.568      0.570   -7503.519    4131.227\n",
      "tipo_renda[T.Empresário]         845.8172    168.696      5.014      0.000     515.144    1176.490\n",
      "tipo_renda[T.Pensionista]       -659.7523    244.332     -2.700      0.007   -1138.684    -180.821\n",
      "tipo_renda[T.Servidor público]   -99.7536    252.696     -0.395      0.693    -595.080     395.572\n",
      "idade                             33.4643      8.076      4.144      0.000      17.634      49.295\n",
      "tempo_emprego                    570.0918     11.763     48.464      0.000     547.034     593.150\n",
      "==============================================================================\n",
      "Omnibus:                    17720.010   Durbin-Watson:                   2.025\n",
      "Prob(Omnibus):                  0.000   Jarque-Bera (JB):         14695083.230\n",
      "Skew:                           9.215   Prob(JB):                         0.00\n",
      "Kurtosis:                     175.728   Cond. No.                     2.03e+03\n",
      "==============================================================================\n",
      "\n",
      "Notes:\n",
      "[1] Standard Errors assume that the covariance matrix of the errors is correctly specified.\n",
      "[2] The condition number is large, 2.03e+03. This might indicate that there are\n",
      "strong multicollinearity or other numerical problems.\n"
     ]
    }
   ],
   "source": [
    "#Formula com as variáveis estatisticamente significativas\n",
    "formula = 'renda ~ sexo + posse_de_imovel + tipo_renda + idade + tempo_emprego'\n",
    "\n",
    "y, X = patsy.dmatrices(formula, data=data)\n",
    "\n",
    "modelo_novo = sm.OLS(y, X).fit()\n",
    "\n",
    "print(modelo_novo.summary())\n"
   ]
  },
  {
   "cell_type": "markdown",
   "metadata": {},
   "source": [
    "Ao observarmos o R squared acima: 0.257 obtivemos um resultado curioso: após selecionar as variáveis estatisticamente significativas obtivemos um resultado um pouco inferior quando comparado com o nosso modelo anterior que continha todas as variáveis: R squared 0.260. \n",
    "\n",
    "Por outro lado, devemos nos atentar que um modelo mais simples, com menos variáveis, mas com um R-quadrado ligeiramente menor, pode ser preferível se as variáveis removidas não forem estatisticamente significativas. Isso é conhecido como o princípio da parcimônia ou simplicidade. Um modelo mais simples geralmente é mais fácil de interpretar e menos propenso a sobreajuste (overfitting)"
   ]
  },
  {
   "cell_type": "markdown",
   "metadata": {},
   "source": [
    "5 - Faça uma análise de resíduos. Avalie a qualidade do ajuste."
   ]
  },
  {
   "cell_type": "code",
   "execution_count": 185,
   "metadata": {},
   "outputs": [
    {
     "data": {
      "image/png": "[encoded data removed]",
      "text/plain": [
       "<Figure size 1000x600 with 1 Axes>"
      ]
     },
     "metadata": {},
     "output_type": "display_data"
    }
   ],
   "source": [
    "valores_ajustados = modelo_novo.fittedvalues\n",
    "\n",
    "residuos = modelo_novo.resid\n",
    "\n",
    "# Plotando o gráfico de resíduos\n",
    "plt.figure(figsize=(10, 6))\n",
    "plt.scatter(valores_ajustados, residuos, alpha=0.5)\n",
    "plt.axhline(0, color='red', linestyle='--')\n",
    "plt.xlabel('Valores Ajustados')\n",
    "plt.ylabel('Resíduos')\n",
    "plt.title('Gráfico de Resíduos vs. Valores Ajustados')\n",
    "plt.show()"
   ]
  },
  {
   "cell_type": "markdown",
   "metadata": {},
   "source": [
    "Conclusão: O gráfico de resíduos versus valores ajustados sugere a presença de heterocedasticidade, já que a variância dos resíduos parece aumentar com os valores ajustados. Também há indicações de possíveis outliers, dada a presença de resíduos com valores muito altos. Essas observações podem apontar para a necessidade de revisar o modelo, possivelmente incluindo mais variáveis explicativas, realizando transformações de variáveis ou tratando os outliers para melhorar o ajuste do modelo aos dados."
   ]
  }
 ],
 "metadata": {
  "kernelspec": {
   "display_name": "Python 3 (ipykernel)",
   "language": "python",
   "name": "python3"
  },
  "language_info": {
   "codemirror_mode": {
    "name": "ipython",
    "version": 3
   },
   "file_extension": ".py",
   "mimetype": "text/x-python",
   "name": "python",
   "nbconvert_exporter": "python",
   "pygments_lexer": "ipython3",
   "version": "3.10.9"
  }
 },
 "nbformat": 4,
 "nbformat_minor": 4
}
